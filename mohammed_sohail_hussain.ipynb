{
  "nbformat": 4,
  "nbformat_minor": 0,
  "metadata": {
    "colab": {
      "provenance": []
    },
    "kernelspec": {
      "name": "python3",
      "display_name": "Python 3"
    },
    "language_info": {
      "name": "python"
    }
  },
  "cells": [
    {
      "cell_type": "code",
      "execution_count": 35,
      "metadata": {
        "id": "v_NIwgPJCsV_"
      },
      "outputs": [],
      "source": [
        "import numpy as np\n",
        "import cv2"
      ]
    },
    {
      "cell_type": "code",
      "source": [
        "#loading image and video\n",
        "video = cv2.VideoCapture('/content/input video.mp4')\n",
        "image = cv2.imread('/content/advertisement image.jpg' , cv2.IMREAD_UNCHANGED)"
      ],
      "metadata": {
        "id": "Etesfxk_Cup2"
      },
      "execution_count": 36,
      "outputs": []
    },
    {
      "cell_type": "code",
      "source": [
        "image.shape"
      ],
      "metadata": {
        "colab": {
          "base_uri": "https://localhost:8080/"
        },
        "id": "-k77c4uBedQm",
        "outputId": "779bbb86-7956-4b46-90d4-1ccae64891d3"
      },
      "execution_count": 37,
      "outputs": [
        {
          "output_type": "execute_result",
          "data": {
            "text/plain": [
              "(900, 1600, 3)"
            ]
          },
          "metadata": {},
          "execution_count": 37
        }
      ]
    },
    {
      "cell_type": "code",
      "source": [
        "#resizing the advertisement to avoid overlapping\n",
        "new_width = 500\n",
        "new_height = int(image.shape[0] * (new_width / image.shape[1]))\n",
        "new_image = cv2.resize(image, (new_width, new_height))\n"
      ],
      "metadata": {
        "id": "MHbKgHC79JGq"
      },
      "execution_count": 38,
      "outputs": []
    },
    {
      "cell_type": "code",
      "source": [
        "new_image.shape"
      ],
      "metadata": {
        "colab": {
          "base_uri": "https://localhost:8080/"
        },
        "id": "v8zQfyMgCusV",
        "outputId": "db4ec929-9714-41bc-806b-d86aea53d912"
      },
      "execution_count": 39,
      "outputs": [
        {
          "output_type": "execute_result",
          "data": {
            "text/plain": [
              "(281, 500, 3)"
            ]
          },
          "metadata": {},
          "execution_count": 39
        }
      ]
    },
    {
      "cell_type": "code",
      "source": [
        "ht = new_image.shape[0]\n",
        "wdt = new_image.shape[1]"
      ],
      "metadata": {
        "id": "otAd8brdCuul"
      },
      "execution_count": 40,
      "outputs": []
    },
    {
      "cell_type": "code",
      "source": [
        "video.read()"
      ],
      "metadata": {
        "colab": {
          "base_uri": "https://localhost:8080/"
        },
        "id": "Hr99_CyLSKNl",
        "outputId": "093e5a3a-22c9-40c4-9df9-0ad0587c14f9"
      },
      "execution_count": 41,
      "outputs": [
        {
          "output_type": "execute_result",
          "data": {
            "text/plain": [
              "(True,\n",
              " array([[[121, 134, 123],\n",
              "         [121, 134, 123],\n",
              "         [121, 134, 123],\n",
              "         ...,\n",
              "         [136, 153, 135],\n",
              "         [136, 153, 135],\n",
              "         [136, 153, 135]],\n",
              " \n",
              "        [[121, 134, 123],\n",
              "         [121, 134, 123],\n",
              "         [121, 134, 123],\n",
              "         ...,\n",
              "         [136, 153, 135],\n",
              "         [136, 153, 135],\n",
              "         [136, 153, 135]],\n",
              " \n",
              "        [[121, 134, 123],\n",
              "         [121, 134, 123],\n",
              "         [121, 134, 123],\n",
              "         ...,\n",
              "         [136, 153, 135],\n",
              "         [136, 153, 135],\n",
              "         [136, 153, 135]],\n",
              " \n",
              "        ...,\n",
              " \n",
              "        [[129, 132, 132],\n",
              "         [129, 132, 132],\n",
              "         [129, 132, 132],\n",
              "         ...,\n",
              "         [109, 142, 185],\n",
              "         [103, 148, 191],\n",
              "         [106, 151, 194]],\n",
              " \n",
              "        [[129, 132, 132],\n",
              "         [129, 132, 132],\n",
              "         [129, 132, 132],\n",
              "         ...,\n",
              "         [108, 141, 184],\n",
              "         [103, 148, 191],\n",
              "         [106, 151, 194]],\n",
              " \n",
              "        [[129, 132, 132],\n",
              "         [129, 132, 132],\n",
              "         [129, 132, 132],\n",
              "         ...,\n",
              "         [108, 141, 184],\n",
              "         [103, 148, 191],\n",
              "         [106, 151, 194]]], dtype=uint8))"
            ]
          },
          "metadata": {},
          "execution_count": 41
        }
      ]
    },
    {
      "cell_type": "code",
      "source": [
        "#assiging the values according to position we want in the video\n",
        "x = 400\n",
        "y = 400"
      ],
      "metadata": {
        "id": "_w6AjDBISx0B"
      },
      "execution_count": 42,
      "outputs": []
    },
    {
      "cell_type": "code",
      "source": [
        "#assigning the format of video to mp4\n",
        "vid_format = cv2.VideoWriter_fourcc(*'MP4V')\n",
        "new_vid = cv2.VideoWriter('new_vid.mp4', vid_format, 30.0, (int(video.get(3)), int(video.get(4))))"
      ],
      "metadata": {
        "id": "Aqq6bYkcpOgv"
      },
      "execution_count": 43,
      "outputs": []
    },
    {
      "cell_type": "code",
      "source": [
        "!pip install files\n",
        "import files"
      ],
      "metadata": {
        "colab": {
          "base_uri": "https://localhost:8080/"
        },
        "id": "6Mid10uGL3cT",
        "outputId": "e001320e-521b-415b-cfd8-5f25a026a2d3"
      },
      "execution_count": 44,
      "outputs": [
        {
          "output_type": "stream",
          "name": "stdout",
          "text": [
            "Requirement already satisfied: files in /usr/local/lib/python3.10/dist-packages (1.1.1)\n"
          ]
        }
      ]
    },
    {
      "cell_type": "code",
      "source": [
        "!ls /content/new_vid.mp4"
      ],
      "metadata": {
        "colab": {
          "base_uri": "https://localhost:8080/"
        },
        "id": "8q2Fft3QZYPB",
        "outputId": "76cf54f7-cbaf-4b7e-9e6c-2364c58aa221"
      },
      "execution_count": 45,
      "outputs": [
        {
          "output_type": "stream",
          "name": "stdout",
          "text": [
            "/content/new_vid.mp4\n"
          ]
        }
      ]
    },
    {
      "cell_type": "code",
      "source": [
        "from google.colab import files\n",
        "while True :\n",
        "  ret , frame = video.read()\n",
        "  if not ret:\n",
        "    break\n",
        "  frame[y:y+ht , x:x+wdt] = new_image\n",
        "  new_vid.write(frame)\n",
        "new_vid.release()\n",
        "#vid.release()\n",
        "files.download('/content/new_vid.mp4')\n"
      ],
      "metadata": {
        "colab": {
          "base_uri": "https://localhost:8080/",
          "height": 17
        },
        "id": "acPzkFYdSFMO",
        "outputId": "bec3f182-1f55-4c15-f99d-c3f16a8ceb93"
      },
      "execution_count": 49,
      "outputs": [
        {
          "output_type": "display_data",
          "data": {
            "text/plain": [
              "<IPython.core.display.Javascript object>"
            ],
            "application/javascript": [
              "\n",
              "    async function download(id, filename, size) {\n",
              "      if (!google.colab.kernel.accessAllowed) {\n",
              "        return;\n",
              "      }\n",
              "      const div = document.createElement('div');\n",
              "      const label = document.createElement('label');\n",
              "      label.textContent = `Downloading \"${filename}\": `;\n",
              "      div.appendChild(label);\n",
              "      const progress = document.createElement('progress');\n",
              "      progress.max = size;\n",
              "      div.appendChild(progress);\n",
              "      document.body.appendChild(div);\n",
              "\n",
              "      const buffers = [];\n",
              "      let downloaded = 0;\n",
              "\n",
              "      const channel = await google.colab.kernel.comms.open(id);\n",
              "      // Send a message to notify the kernel that we're ready.\n",
              "      channel.send({})\n",
              "\n",
              "      for await (const message of channel.messages) {\n",
              "        // Send a message to notify the kernel that we're ready.\n",
              "        channel.send({})\n",
              "        if (message.buffers) {\n",
              "          for (const buffer of message.buffers) {\n",
              "            buffers.push(buffer);\n",
              "            downloaded += buffer.byteLength;\n",
              "            progress.value = downloaded;\n",
              "          }\n",
              "        }\n",
              "      }\n",
              "      const blob = new Blob(buffers, {type: 'application/binary'});\n",
              "      const a = document.createElement('a');\n",
              "      a.href = window.URL.createObjectURL(blob);\n",
              "      a.download = filename;\n",
              "      div.appendChild(a);\n",
              "      a.click();\n",
              "      div.remove();\n",
              "    }\n",
              "  "
            ]
          },
          "metadata": {}
        },
        {
          "output_type": "display_data",
          "data": {
            "text/plain": [
              "<IPython.core.display.Javascript object>"
            ],
            "application/javascript": [
              "download(\"download_b9dd2322-0493-4e96-9864-71de81b9e614\", \"new_vid.mp4\", 258)"
            ]
          },
          "metadata": {}
        }
      ]
    }
  ]
}